{
 "cells": [
  {
   "cell_type": "markdown",
   "metadata": {},
   "source": [
    "# Exercise 9.5"
   ]
  },
  {
   "cell_type": "code",
   "execution_count": 40,
   "metadata": {
    "scrolled": true
   },
   "outputs": [
    {
     "name": "stdout",
     "output_type": "stream",
     "text": [
      "Probability of 1 (%): 20\n",
      "Max singular value: 160.90380112661052\n",
      "Probability of 1 (%): 30\n",
      "Max singular value: 140.56951122690944\n",
      "Probability of 1 (%): 40\n",
      "Max singular value: 120.62522404908034\n",
      "Probability of 1 (%): 50\n",
      "Max singular value: 100.73698514721985\n",
      "Probability of 1 (%): 60\n",
      "Max singular value: 80.13070896024882\n",
      "Probability of 1 (%): 70\n",
      "Max singular value: 61.32927924406265\n",
      "Probability of 1 (%): 80\n",
      "Max singular value: 41.24679009537268\n",
      "As Probability increases, max singular value decreases. They are inversely proportional.\n"
     ]
    }
   ],
   "source": [
    "import numpy as np\n",
    "import random\n",
    "from scipy.linalg import svdvals\n",
    "import math\n",
    "import scipy\n",
    "size = (200,200)\n",
    "C = np.zeros(size)\n",
    "numberList = [0,1]\n",
    "def createMatrix(p):   \n",
    "    print(\"Probability of 1 (%):\", p)\n",
    "    for i in range(200):  \n",
    "            for j in range(200):\n",
    "                C[i][j] = random.choices(numberList, weights=(p, 100-p))[0]\n",
    "\n",
    "\n",
    "createMatrix(20)\n",
    "print(\"Max singular value:\",max(svdvals(C)))\n",
    "\n",
    "createMatrix(30)\n",
    "print(\"Max singular value:\",max(svdvals(C)))\n",
    "\n",
    "createMatrix(40)\n",
    "print(\"Max singular value:\",max(svdvals(C)))\n",
    "\n",
    "createMatrix(50)\n",
    "print(\"Max singular value:\",max(svdvals(C)))\n",
    "\n",
    "createMatrix(60)\n",
    "print(\"Max singular value:\",max(svdvals(C)))\n",
    "\n",
    "createMatrix(70)\n",
    "print(\"Max singular value:\",max(svdvals(C)))\n",
    "\n",
    "createMatrix(80)\n",
    "print(\"Max singular value:\",max(svdvals(C)))\n",
    "\n",
    "print(\"As Probability increases, max singular value decreases. They are inversely proportional.\")\n"
   ]
  },
  {
   "cell_type": "markdown",
   "metadata": {},
   "source": [
    "# Exercise 10.1"
   ]
  },
  {
   "cell_type": "code",
   "execution_count": 38,
   "metadata": {},
   "outputs": [
    {
     "name": "stdout",
     "output_type": "stream",
     "text": [
      "x :  [0.08801132 0.         0.         0.18022003 0.         0.\n",
      " 0.         0.14368477 0.         0.         0.         0.\n",
      " 0.         0.         0.13785779 0.         0.18238783 0.23791296\n",
      " 0.02173822 0.11760603]\n",
      "norm of residual :  1244.1291446545977\n"
     ]
    }
   ],
   "source": [
    "from scipy.optimize import nnls\n",
    "m=30\n",
    "n=20\n",
    "size = (30,20)\n",
    "b = np.zeros(m)\n",
    "A = np.zeros(size)\n",
    "\n",
    "for i in range(m):\n",
    "    b[i] = random.random()*1000\n",
    "\n",
    "for i in range(m):\n",
    "    for j in range(n):\n",
    "        A[i][j] = random.random()*1000\n",
    "        \n",
    "x,norm = nnls(A,b)\n",
    "print(\"x : \",x)\n",
    "print(\"norm of residual : \",norm)"
   ]
  },
  {
   "cell_type": "markdown",
   "metadata": {},
   "source": [
    "# Exercise 10.2"
   ]
  },
  {
   "cell_type": "code",
   "execution_count": 47,
   "metadata": {},
   "outputs": [
    {
     "name": "stdout",
     "output_type": "stream",
     "text": [
      "(array([0.21624133]), array([-0.91168541]), {'grad': array([-2.22044605e-08]), 'task': b'CONVERGENCE: NORM_OF_PROJECTED_GRADIENT_<=_PGTOL', 'funcalls': 12, 'nit': 4, 'warnflag': 0})\n"
     ]
    }
   ],
   "source": [
    "import scipy.optimize as opt\n",
    "def f(x):\n",
    "    return (np.sin(x - 2) ** 2) * ((math.e) ** (-(x ** 2)))\n",
    "\n",
    "max_x = opt.fmin_l_bfgs_b(lambda x: -f(x), 0,approx_grad=True)\n",
    "print(max_x)"
   ]
  },
  {
   "cell_type": "markdown",
   "metadata": {},
   "source": [
    "# Exercise 10.3"
   ]
  },
  {
   "cell_type": "code",
   "execution_count": 54,
   "metadata": {},
   "outputs": [
    {
     "name": "stdout",
     "output_type": "stream",
     "text": [
      "[1401.6116823  1418.44840693  829.9646734  1469.22860897 1270.90273524\n",
      "  984.72109337 1494.26042348  837.31231155 1313.83564243 1252.57902308\n",
      " 1003.79099887 1600.63927917 1112.43318256 1420.77939551 1578.94026717\n",
      " 1114.20854244 1238.7146088  1644.44989892 1603.23057908 1476.32714681\n",
      " 1445.42139563 1454.36279112 1086.261019   1664.89314051 1555.71206056\n",
      " 1512.62816167 1686.26752502 1333.98110322 1496.58957973 1073.63747677\n",
      " 1368.15633148 1563.00279816 1528.95350427  784.11855806 1316.65107894\n",
      " 1064.2903016  1017.77794344 1502.66948598  912.38691654 1406.27023607\n",
      " 1386.98938509 1195.9127426  1398.25814138  985.16666442 1288.16506468\n",
      " 1137.70332551 1252.13320622 1648.67054719 1315.73872659 1585.59647112\n",
      " 1306.48624255 1376.34459307  972.23885724 1126.19625018 1447.26651672\n",
      "  912.67132921 1107.45037505 1172.42719366 1515.18407675 1350.29370055\n",
      " 1392.50813422 1176.33025394  972.79699413 1063.39155986 1113.20770925\n",
      "  972.6602078  1071.93876376 1311.03630783  742.15578545 1283.35086207\n",
      " 1354.06747257 1341.40996749 1444.55918626 1172.58571327 1573.87412028\n",
      " 1364.71352652 1631.83353446 1242.0457821  1323.38713743  862.51496278\n",
      " 1435.42119654 1409.40267775 1365.39256737 1394.47601395 1472.39676299\n",
      " 1054.56868631  913.55635428 1441.85435183 1135.82630497 1231.11457639\n",
      " 1201.43254841 1096.76019163 1209.41845327 1500.85119761 1103.9562903\n",
      " 1292.07084982 1146.97527269 1331.35565458 1087.22490517 1155.41242074\n",
      " 1365.64128024 1031.14661454 1266.47029112  784.58300064 1249.55884642]\n"
     ]
    }
   ],
   "source": [
    "from scipy import spatial\n",
    "m=15\n",
    "n=10\n",
    "size = (15,10)\n",
    "X = np.zeros(size)\n",
    "for i in range(m):\n",
    "    for j in range(n):\n",
    "        X[i][j] = random.random()*1000\n",
    "distances = scipy.spatial.distance.pdist(X)\n",
    "\n",
    "print(distances)"
   ]
  },
  {
   "cell_type": "markdown",
   "metadata": {},
   "source": [
    "# Exercise 11.1"
   ]
  },
  {
   "cell_type": "code",
   "execution_count": 59,
   "metadata": {},
   "outputs": [
    {
     "data": {
      "image/png": "[encoded data removed]",
      "text/plain": [
       "<Figure size 432x288 with 1 Axes>"
      ]
     },
     "metadata": {
      "needs_background": "light"
     },
     "output_type": "display_data"
    }
   ],
   "source": [
    "import matplotlib.pyplot as pl# Exercise 10.3t\n",
    "\n",
    "x = np.linspace(0,2)\n",
    "plt.plot(x, f(x))\n",
    "plt.show()"
   ]
  },
  {
   "cell_type": "markdown",
   "metadata": {},
   "source": [
    "# Exercise 11.2"
   ]
  },
  {
   "cell_type": "code",
   "execution_count": 65,
   "metadata": {},
   "outputs": [
    {
     "data": {
      "image/png": "[encoded data removed]",
      "text/plain": [
       "<Figure size 432x288 with 1 Axes>"
      ]
     },
     "metadata": {
      "needs_background": "light"
     },
     "output_type": "display_data"
    }
   ],
   "source": [
    "def my_argmin(b0, X, y):\n",
    "    b0 = np.reshape(b0, (10, 1))\n",
    "    return np.linalg.norm(np.dot(X, b0) - y, ord=2)\n",
    "\n",
    "#np.random.seed()\n",
    "X = np.random.randint(-3, 3, (20, 10))\n",
    "a = np.random.randint(-3, 3, (10, 1))\n",
    "z = np.random.randn(20, 1)\n",
    "y = np.dot(X, a) - z\n",
    "y = np.array(y)\n",
    "\n",
    "r = opt.minimize(my_argmin, np.transpose(a), args=(X, y))\n",
    "x = [0,1,2,3,4,5,6,7,8,9]\n",
    "\n",
    "sca1 = plt.scatter(x, a, s = 10)\n",
    "sca2 = plt.scatter(x, r.x, s = 10)\n",
    "plt.xlabel('index')\n",
    "plt.ylabel('value')\n",
    "plt.axis([0, 10, -3, 3])\n",
    "plt.title('Data')\n",
    "plt.legend([sca1, sca2], ['True coefficents', 'Estimated coefficients'])\n",
    "plt.show()"
   ]
  },
  {
   "cell_type": "markdown",
   "metadata": {},
   "source": [
    "# Exercise 11.3"
   ]
  },
  {
   "cell_type": "code",
   "execution_count": 69,
   "metadata": {},
   "outputs": [
    {
     "name": "stderr",
     "output_type": "stream",
     "text": [
      "C:\\Users\\tahaa\\Anaconda3\\lib\\site-packages\\ipykernel_launcher.py:5: MatplotlibDeprecationWarning: \n",
      "The 'normed' kwarg was deprecated in Matplotlib 2.1 and will be removed in 3.1. Use 'density' instead.\n",
      "  \"\"\"\n"
     ]
    },
    {
     "data": {
      "image/png": "[encoded data removed]",
      "text/plain": [
       "<Figure size 432x288 with 1 Axes>"
      ]
     },
     "metadata": {
      "needs_background": "light"
     },
     "output_type": "display_data"
    }
   ],
   "source": [
    "import scipy.stats as stats\n",
    "import seaborn as sns\n",
    "\n",
    "data = stats.norm.rvs(loc = 1, scale = 0.3, size = 10000)\n",
    "plt.hist(data, bins = 25, normed = 1, edgecolor = 'black', color = 'blue')\n",
    "sns.kdeplot(data, color = 'red')\n",
    "plt.show()"
   ]
  },
  {
   "cell_type": "code",
   "execution_count": null,
   "metadata": {},
   "outputs": [],
   "source": []
  }
 ],
 "metadata": {
  "kernelspec": {
   "display_name": "Python 3",
   "language": "python",
   "name": "python3"
  },
  "language_info": {
   "codemirror_mode": {
    "name": "ipython",
    "version": 3
   },
   "file_extension": ".py",
   "mimetype": "text/x-python",
   "name": "python",
   "nbconvert_exporter": "python",
   "pygments_lexer": "ipython3",
   "version": "3.7.4"
  }
 },
 "nbformat": 4,
 "nbformat_minor": 2
}
