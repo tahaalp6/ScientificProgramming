{
 "cells": [
  {
   "cell_type": "markdown",
   "metadata": {},
   "source": [
    "# Exercise 7.1"
   ]
  },
  {
   "cell_type": "code",
   "execution_count": 32,
   "metadata": {},
   "outputs": [
    {
     "name": "stdout",
     "output_type": "stream",
     "text": [
      "Hello! Welcome to file.txt\n",
      "Good Luck!\n",
      "This file is for testing purposes.\n",
      "Good Luck!\n"
     ]
    }
   ],
   "source": [
    "from collections import Counter\n",
    "import re\n",
    "f = open(\"file.txt\", \"r\")\n",
    "print(f.read())"
   ]
  },
  {
   "cell_type": "markdown",
   "metadata": {},
   "source": [
    "# Exercise 7.2"
   ]
  },
  {
   "cell_type": "code",
   "execution_count": 34,
   "metadata": {},
   "outputs": [
    {
     "name": "stdout",
     "output_type": "stream",
     "text": [
      "[('the', 23455), ('I', 22225), ('and', 18715), ('to', 16433), ('of', 15830), ('a', 12851), ('you', 12236), ('my', 10840), ('in', 10074), ('d', 8954)]\n"
     ]
    }
   ],
   "source": [
    "from collections import Counter\n",
    "import re\n",
    "file = open(\"William.txt\", \"r\")\n",
    "read_data = file.read()\n",
    "words = re.findall('\\w+',read_data, re.DOTALL)\n",
    "print(Counter(words).most_common(10))"
   ]
  },
  {
   "cell_type": "code",
   "execution_count": 35,
   "metadata": {},
   "outputs": [
    {
     "name": "stdout",
     "output_type": "stream",
     "text": [
      "Total Unique Words: 67779\n"
     ]
    }
   ],
   "source": [
    "words_set = set(read_data.split())\n",
    "count = 0\n",
    "for word in words_set:\n",
    "    count += 1\n",
    "    \n",
    "print('Total Unique Words:', count)"
   ]
  },
  {
   "cell_type": "code",
   "execution_count": 40,
   "metadata": {},
   "outputs": [
    {
     "name": "stdout",
     "output_type": "stream",
     "text": [
      "Total words are used at least 5 times :  9982\n"
     ]
    }
   ],
   "source": [
    "count = 0\n",
    "for word in Counter(words).items():\n",
    "    if(word[1] >= 5):\n",
    "        count+=1\n",
    "print('Total words are used at least 5 times : ', count)"
   ]
  },
  {
   "cell_type": "code",
   "execution_count": 45,
   "metadata": {},
   "outputs": [],
   "source": [
    "fi = open(\"200most_common_words.txt\", \"w\")\n",
    "for word in Counter(words).most_common(200):\n",
    "    fi.write(str(word))"
   ]
  },
  {
   "cell_type": "markdown",
   "metadata": {},
   "source": [
    "# Exercise 7.3"
   ]
  },
  {
   "cell_type": "code",
   "execution_count": null,
   "metadata": {},
   "outputs": [],
   "source": []
  },
  {
   "cell_type": "markdown",
   "metadata": {},
   "source": [
    "# Exercise 8.1"
   ]
  },
  {
   "cell_type": "code",
   "execution_count": 40,
   "metadata": {},
   "outputs": [
    {
     "name": "stdout",
     "output_type": "stream",
     "text": [
      "add  12/5\n",
      "sub  -24/15\n",
      "mul  4/5\n",
      "div  1/5\n"
     ]
    }
   ],
   "source": [
    "class Rational:\n",
    "\n",
    "    def __init__(self, p, q):\n",
    "        self.p = p\n",
    "        self.q = q\n",
    "    def __str__ (self):\n",
    "        return str(self.p) + '/' + str(self.q)\n",
    "    \n",
    "    def simple(self):\n",
    "        tmp = 1\n",
    "        for i in range(1,min(self.p,self.q)+1):\n",
    "            if self.p%i == 0 and self.q%i == 0:\n",
    "                tmp = i\n",
    "        return str(int(self.p/tmp)) + '/' + str(int(self.q/tmp))\n",
    "    def __add__ (self,other):\n",
    "        if self.q == other.q:\n",
    "            tmp = Rational(self.p + other.p,self.q)\n",
    "            return tmp.simple()\n",
    "        else:\n",
    "            tmp = Rational(self.p * other.q + self.q * other.p,self.q*other.q)\n",
    "            return tmp.simple()\n",
    "    def __sub__ (self,other):\n",
    "        if self.q == other.q:\n",
    "            tmp = Rational(self.p - other.p,self.q)\n",
    "            return tmp.simple()\n",
    "        else:\n",
    "            tmp = Rational(self.p * other.q - self.q * other.p,self.q*other.q)\n",
    "            return tmp.simple()\n",
    "    def __mul__ (self,other):\n",
    "        tmp = Rational(self.p * other.p,self.q * other.q)\n",
    "        return tmp.simple()\n",
    "    def __div__ (self,other):\n",
    "        tmp = Rational(self.p * other.q,self.q * other.p)\n",
    "        return tmp.simple()\n",
    "    \n",
    "a=Rational(2,5)\n",
    "b=Rational(6,3)\n",
    "print('add ',a.__add__(b))\n",
    "print('sub ',a.__sub__(b))\n",
    "print('mul ',a.__mul__(b))\n",
    "print('div ',a.__div__(b))"
   ]
  },
  {
   "cell_type": "code",
   "execution_count": null,
   "metadata": {},
   "outputs": [],
   "source": []
  }
 ],
 "metadata": {
  "kernelspec": {
   "display_name": "Python 3",
   "language": "python",
   "name": "python3"
  },
  "language_info": {
   "codemirror_mode": {
    "name": "ipython",
    "version": 3
   },
   "file_extension": ".py",
   "mimetype": "text/x-python",
   "name": "python",
   "nbconvert_exporter": "python",
   "pygments_lexer": "ipython3",
   "version": "3.7.4"
  }
 },
 "nbformat": 4,
 "nbformat_minor": 2
}
