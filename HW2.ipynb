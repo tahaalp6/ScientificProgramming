{
 "cells": [
  {
   "cell_type": "markdown",
   "metadata": {},
   "source": [
    "# Exercise 4.1"
   ]
  },
  {
   "cell_type": "code",
   "execution_count": 1,
   "metadata": {},
   "outputs": [
    {
     "name": "stdout",
     "output_type": "stream",
     "text": [
      "apple\n",
      "banana\n",
      "cherry\n"
     ]
    }
   ],
   "source": [
    "myList = [\"apple\", \"banana\", \"cherry\"]\n",
    "\n",
    "def printList(liste):\n",
    "    for i in liste:\n",
    "        print(i)\n",
    "        \n",
    "printList(myList)\n",
    "    "
   ]
  },
  {
   "cell_type": "code",
   "execution_count": 2,
   "metadata": {},
   "outputs": [
    {
     "name": "stdout",
     "output_type": "stream",
     "text": [
      "cherry\n",
      "banana\n",
      "apple\n"
     ]
    }
   ],
   "source": [
    "myList = [\"apple\", \"banana\", \"cherry\"]\n",
    "\n",
    "def printReverseList(liste):\n",
    "    liste.reverse()\n",
    "    for i in liste:\n",
    "        print(i)\n",
    "        \n",
    "printList(myList)"
   ]
  },
  {
   "cell_type": "code",
   "execution_count": 3,
   "metadata": {},
   "outputs": [
    {
     "name": "stdout",
     "output_type": "stream",
     "text": [
      "3\n"
     ]
    }
   ],
   "source": [
    "myList = [\"apple\", \"banana\", \"cherry\"]\n",
    "\n",
    "def myLen(liste):\n",
    "    x = 0\n",
    "    for i in liste:\n",
    "        x+=1\n",
    "    return x\n",
    "        \n",
    "print(myLen(myList))"
   ]
  },
  {
   "cell_type": "markdown",
   "metadata": {},
   "source": [
    "# Exercise 4.2"
   ]
  },
  {
   "cell_type": "code",
   "execution_count": 5,
   "metadata": {},
   "outputs": [],
   "source": [
    "a = ['cat', 'dog', 'rabbit']"
   ]
  },
  {
   "cell_type": "code",
   "execution_count": 6,
   "metadata": {},
   "outputs": [],
   "source": [
    "b=a"
   ]
  },
  {
   "cell_type": "code",
   "execution_count": 7,
   "metadata": {},
   "outputs": [],
   "source": [
    "b[1]='bird'"
   ]
  },
  {
   "cell_type": "code",
   "execution_count": 10,
   "metadata": {
    "scrolled": true
   },
   "outputs": [
    {
     "name": "stdout",
     "output_type": "stream",
     "text": [
      "['cat', 'bird', 'rabbit']\n",
      "['cat', 'bird', 'rabbit']\n"
     ]
    }
   ],
   "source": [
    "print(a)\n",
    "print(b)\n",
    "# Also a changed"
   ]
  },
  {
   "cell_type": "code",
   "execution_count": 11,
   "metadata": {},
   "outputs": [],
   "source": [
    "c = a[:]"
   ]
  },
  {
   "cell_type": "code",
   "execution_count": 14,
   "metadata": {},
   "outputs": [
    {
     "name": "stdout",
     "output_type": "stream",
     "text": [
      "['cat', 'bird', 'rabbit']\n",
      "['cat', 'bird', 'butterfly']\n"
     ]
    }
   ],
   "source": [
    "c[2] = 'butterfly'\n",
    "print(a)\n",
    "print(c)\n",
    "# c didn't change"
   ]
  },
  {
   "cell_type": "code",
   "execution_count": 16,
   "metadata": {},
   "outputs": [
    {
     "name": "stdout",
     "output_type": "stream",
     "text": [
      "['1', 'bird', 'butterfly']\n",
      "['cat', 'bird', 'rabbit']\n"
     ]
    }
   ],
   "source": [
    "def set_first_elem_to_zero(liste):\n",
    "    liste[0] = '1'\n",
    "    return liste\n",
    "print(set_first_elem_to_zero(c))\n",
    "print(a)\n",
    "# a didn't change"
   ]
  },
  {
   "cell_type": "markdown",
   "metadata": {},
   "source": [
    "# Exercise 4.3"
   ]
  },
  {
   "cell_type": "code",
   "execution_count": 34,
   "metadata": {
    "scrolled": true
   },
   "outputs": [
    {
     "name": "stdout",
     "output_type": "stream",
     "text": [
      "[[], [], []]\n",
      "[[], [], []]\n"
     ]
    }
   ],
   "source": [
    "from past.builtins import xrange\n",
    "a = [[]] * 3\n",
    "b = [[] for _ in xrange(3)]\n",
    "print(a)\n",
    "print(b)\n",
    "# These seem same"
   ]
  },
  {
   "cell_type": "markdown",
   "metadata": {},
   "source": [
    "# Exercise 4.4"
   ]
  },
  {
   "cell_type": "code",
   "execution_count": 37,
   "metadata": {},
   "outputs": [
    {
     "name": "stdout",
     "output_type": "stream",
     "text": [
      "[5, 2, 63, 0, 7, 54, 2, 35, 5]\n"
     ]
    }
   ],
   "source": [
    "mylist = [5,2,63,8,7,54,2,35,5]\n",
    "def set_elem_to_zero(liste,x):\n",
    "    liste[x] = 0\n",
    "    return liste\n",
    "print(set_elem_to_zero(mylist,3))\n"
   ]
  },
  {
   "cell_type": "markdown",
   "metadata": {},
   "source": [
    "# Exercise 4.5"
   ]
  },
  {
   "cell_type": "code",
   "execution_count": 44,
   "metadata": {},
   "outputs": [
    {
     "name": "stdout",
     "output_type": "stream",
     "text": [
      ":8\n"
     ]
    },
    {
     "data": {
      "text/plain": [
       "[2, 3, 5, 7, 11, 13, 17, 19]"
      ]
     },
     "execution_count": 44,
     "metadata": {},
     "output_type": "execute_result"
    }
   ],
   "source": [
    "x = int(input(\":\"))\n",
    "\n",
    "\n",
    "def printTimesPrimes(n):\n",
    "    temp=0\n",
    "    i=2\n",
    "    primeList=[]\n",
    "    while temp!=n:\n",
    "        \n",
    "        if i<4:\n",
    "            primeList.append(i)\n",
    "            temp+=1\n",
    "            i+=1\n",
    "            continue\n",
    "        isPrime = True\n",
    "        for j in range(2,i):\n",
    "            if i%j == 0:\n",
    "                isPrime = False\n",
    "                i+=1\n",
    "                break\n",
    "        if isPrime:\n",
    "            primeList.append(i)\n",
    "            temp+=1\n",
    "            i+=1\n",
    "    return primeList\n",
    "\n",
    "\n",
    "printTimesPrimes(x)"
   ]
  },
  {
   "cell_type": "code",
   "execution_count": 52,
   "metadata": {},
   "outputs": [
    {
     "name": "stdout",
     "output_type": "stream",
     "text": [
      "[[1, 1], [1, 2], [1, 3], [1, 4], [2, 1], [2, 2], [2, 3], [2, 4], [3, 1], [3, 2], [3, 3], [3, 4], [4, 1], [4, 2], [4, 3], [4, 4]]\n"
     ]
    }
   ],
   "source": [
    "def generateList(n):\n",
    "    liste = []\n",
    "    for x in range(1,n):\n",
    "        for y in range(1,n):\n",
    "            liste.append([x,y])\n",
    "    return liste\n",
    "\n",
    "print(generateList(5))\n"
   ]
  },
  {
   "cell_type": "code",
   "execution_count": 60,
   "metadata": {},
   "outputs": [
    {
     "name": "stdout",
     "output_type": "stream",
     "text": [
      "[[1, 2], [1, 3], [2, 3], [1, 4], [2, 4], [3, 4], [1, 5], [2, 5], [3, 5], [4, 5], [1, 6], [2, 6], [3, 6], [4, 6], [5, 6], [1, 7], [2, 7], [3, 7], [4, 7], [5, 7], [6, 7]]\n"
     ]
    }
   ],
   "source": [
    "def generateList(n):\n",
    "    liste = []\n",
    "    for x in range(1,n):\n",
    "        for y in range(1,x):\n",
    "            liste.append([y,x])\n",
    "    return liste\n",
    "\n",
    "print(generateList(8))"
   ]
  },
  {
   "cell_type": "code",
   "execution_count": 76,
   "metadata": {},
   "outputs": [
    {
     "name": "stdout",
     "output_type": "stream",
     "text": [
      "[5, 7, 8, 9, 10, 12]\n"
     ]
    }
   ],
   "source": [
    "def primes_to(n):\n",
    "    liste = []\n",
    "    for i in range(2,n):\n",
    "        if n<4:\n",
    "            liste.append(i)\n",
    "        isPrime = True\n",
    "        for j in range(2,i):\n",
    "            if i%j == 0:\n",
    "                isPrime = False\n",
    "                break\n",
    "        if isPrime:\n",
    "            liste.append(i)\n",
    "    return liste\n",
    "\n",
    "def generateList_sumOfPrimes(n):\n",
    "    primeliste = []\n",
    "    temp = primes_to(n)\n",
    "    for x in range(len(temp)):\n",
    "        for y in range(x):\n",
    "            s=temp[x]+temp[y]\n",
    "            primeliste.append(s)\n",
    "    return primeliste\n",
    "\n",
    "print(generateList_sumOfPrimes(8))"
   ]
  },
  {
   "cell_type": "code",
   "execution_count": 3,
   "metadata": {},
   "outputs": [
    {
     "name": "stdout",
     "output_type": "stream",
     "text": [
      "19\n"
     ]
    }
   ],
   "source": [
    "alist = [5, 7]\n",
    "\n",
    "def generatePolList(a,x):\n",
    "    result = 0\n",
    "    for i,v in enumerate(a):\n",
    "        result += v*(x**i)\n",
    "    return result\n",
    "\n",
    "print(generatePolList(alist,2))"
   ]
  },
  {
   "cell_type": "markdown",
   "metadata": {},
   "source": [
    "# Exercise 4.7"
   ]
  },
  {
   "cell_type": "code",
   "execution_count": 16,
   "metadata": {},
   "outputs": [
    {
     "name": "stdout",
     "output_type": "stream",
     "text": [
      "myFilter :  ['', 2, '', 4]\n",
      "filter :  [2, 4]\n"
     ]
    }
   ],
   "source": [
    "def myFilter(n):\n",
    "    if n == 0:\n",
    "        return False\n",
    "    elif n%2 == 0:\n",
    "        return True\n",
    "    else:\n",
    "        return False\n",
    "  \n",
    "numbers = [1, 2, 3, 4]\n",
    "result = map(lambda x : x if myFilter(x) else '', numbers)\n",
    "print('myFilter : ',list(result))\n",
    "\n",
    "filterResult = filter(lambda x : x%2==0,numbers)\n",
    "print('filter : ',list(filterResult))\n",
    "\n"
   ]
  },
  {
   "cell_type": "markdown",
   "metadata": {},
   "source": [
    "# Exercise 4.8"
   ]
  },
  {
   "cell_type": "code",
   "execution_count": 17,
   "metadata": {},
   "outputs": [
    {
     "name": "stdout",
     "output_type": "stream",
     "text": [
      "[1, 3, 3, 6]\n"
     ]
    }
   ],
   "source": [
    "def flatter(liste):\n",
    "    temp = list()\n",
    "    for i in liste:\n",
    "        for j in i:\n",
    "            temp.append(j)\n",
    "    return temp      \n",
    "\n",
    "x = [[1,3], [3,6]]\n",
    "print(flatter(x))"
   ]
  },
  {
   "cell_type": "markdown",
   "metadata": {},
   "source": [
    "# Exercise 4.9"
   ]
  },
  {
   "cell_type": "code",
   "execution_count": 26,
   "metadata": {},
   "outputs": [
    {
     "name": "stdout",
     "output_type": "stream",
     "text": [
      "football\n"
     ]
    }
   ],
   "source": [
    "def longestWord(sentence):\n",
    "    longest = ''\n",
    "    temp = ''\n",
    "    for char in sentence:\n",
    "        if char.isalpha():\n",
    "            temp += char\n",
    "        else:\n",
    "            if len(temp)>=len(longest):\n",
    "                longest=temp\n",
    "            temp=''\n",
    "    return longest\n",
    "\n",
    "print(longestWord('Hello, how was the football match earlier today???'))"
   ]
  },
  {
   "cell_type": "markdown",
   "metadata": {},
   "source": [
    "# Exercise 4.10"
   ]
  },
  {
   "cell_type": "code",
   "execution_count": 33,
   "metadata": {},
   "outputs": [
    {
     "name": "stdout",
     "output_type": "stream",
     "text": [
      "837799\n"
     ]
    }
   ],
   "source": [
    "def collatz(x):\n",
    "    cnt = 1\n",
    "    while x!=1:\n",
    "        if x%2==0:\n",
    "            x=x//2\n",
    "            cnt+=1\n",
    "        else:\n",
    "            x=3*x+1\n",
    "            cnt+=1\n",
    "    return cnt\n",
    "\n",
    "longestN = 0\n",
    "longestCnt = 0\n",
    "\n",
    "for i in range(3,1000000):\n",
    "    cnt = collatz(i)\n",
    "    if longestCnt < cnt:\n",
    "        longestCnt = cnt\n",
    "        longestN = i\n",
    "        \n",
    "\n",
    "print(longestN)"
   ]
  },
  {
   "cell_type": "code",
   "execution_count": 44,
   "metadata": {},
   "outputs": [
    {
     "name": "stdout",
     "output_type": "stream",
     "text": [
      "626331\n"
     ]
    }
   ],
   "source": [
    "\n",
    "longestN = 0\n",
    "longestCnt = 0\n",
    "\n",
    "for i in range(3,837799):\n",
    "    cnt = collatz(i)\n",
    "    if longestCnt < cnt:\n",
    "        longestCnt = cnt\n",
    "        longestN = i\n",
    "        \n",
    "\n",
    "print(longestN)"
   ]
  },
  {
   "cell_type": "markdown",
   "metadata": {},
   "source": [
    "# Exercise 4.11"
   ]
  },
  {
   "cell_type": "code",
   "execution_count": 45,
   "metadata": {},
   "outputs": [
    {
     "name": "stdout",
     "output_type": "stream",
     "text": [
      "[2, 1, 3, 5, 8, 4]\n"
     ]
    }
   ],
   "source": [
    "def pivot(p,liste):\n",
    "    res = []\n",
    "    for i in range(len(liste)):\n",
    "        if i >= len(liste):\n",
    "            break# Exercise 4.10\n",
    "        if liste[i] < p:\n",
    "            res.append(liste[i])\n",
    "            liste.pop(i)\n",
    "            \n",
    "    res.append(p)\n",
    "    for j in liste:\n",
    "        res.append(j)\n",
    "        \n",
    "    return res\n",
    "\n",
    "print(pivot(3,[2,5,8,1,4]))"
   ]
  },
  {
   "cell_type": "markdown",
   "metadata": {},
   "source": [
    "# Exercise 4.12"
   ]
  },
  {
   "cell_type": "code",
   "execution_count": 55,
   "metadata": {},
   "outputs": [
    {
     "name": "stdout",
     "output_type": "stream",
     "text": [
      "[2, 3, 5, 7, 11, 13, 17, 19, 23, 29, 31, 37, 41, 43, 47, 53, 59, 61, 67, 71, 73, 79, 83, 89, 97]\n"
     ]
    }
   ],
   "source": [
    "def primes(n):\n",
    "    is_prime = lambda x: all( x%i != 0 for i in range(2, int(x**.5)+1) )\n",
    "    return list(filter(lambda x: is_prime(x),  range(2,n)))\n",
    "    \n",
    "\n",
    "print(primes(100))"
   ]
  },
  {
   "cell_type": "markdown",
   "metadata": {},
   "source": [
    "# Exercise 5.1"
   ]
  },
  {
   "cell_type": "code",
   "execution_count": 56,
   "metadata": {},
   "outputs": [
    {
     "name": "stdout",
     "output_type": "stream",
     "text": [
      "4\n",
      "3\n"
     ]
    }
   ],
   "source": [
    "a=3\n",
    "b=4\n",
    "a,b=b,a\n",
    "print(a)\n",
    "print(b)"
   ]
  },
  {
   "cell_type": "markdown",
   "metadata": {},
   "source": [
    "# Exercise 5.2"
   ]
  },
  {
   "cell_type": "code",
   "execution_count": 68,
   "metadata": {},
   "outputs": [
    {
     "name": "stdout",
     "output_type": "stream",
     "text": [
      "[[2, 8], [1, 7], [5, 4], [9, 3], [8, 5]]\n"
     ]
    }
   ],
   "source": [
    "x=(2,1,5,9,8,)\n",
    "y=(8,7,4,3,5# Exercise 5.1,)\n",
    "c= list(map(list,zip(x,y)))\n",
    "print(c)"
   ]
  },
  {
   "cell_type": "code",
   "execution_count": 69,
   "metadata": {},
   "outputs": [],
   "source": [
    "a,b = map(list,zip(*c))"
   ]
  },
  {
   "cell_type": "code",
   "execution_count": 70,
   "metadata": {},
   "outputs": [
    {
     "data": {
      "text/plain": [
       "[2, 1, 5, 9, 8]"
      ]
     },
     "execution_count": 70,
     "metadata": {},
     "output_type": "execute_result"
    }
   ],
   "source": [
    "a"
   ]
  },
  {
   "cell_type": "code",
   "execution_count": 71,
   "metadata": {},
   "outputs": [
    {
     "data": {
      "text/plain": [
       "[8, 7, 4, 3, 5]"
      ]
     },
     "execution_count": 71,
     "metadata": {},
     "output_type": "execute_result"
    }
   ],
   "source": [
    "b"
   ]
  },
  {
   "cell_type": "markdown",
   "metadata": {},
   "source": [
    "# Exercise 5.3"
   ]
  },
  {
   "cell_type": "markdown",
   "metadata": {},
   "source": [
    "# Exercise 6.1"
   ]
  },
  {
   "cell_type": "code",
   "execution_count": 74,
   "metadata": {},
   "outputs": [
    {
     "name": "stdout",
     "output_type": "stream",
     "text": [
      "key: a - value: 1\n",
      "key: b - value: 2\n"
     ]
    }
   ],
   "source": [
    "def print_dict(d):\n",
    "    for k,v in d.items():\n",
    "        print(f'key: {k} - value: {v}')\n",
    "\n",
    "print_dict({\"a\": 1,\"b\":2})\n"
   ]
  },
  {
   "cell_type": "markdown",
   "metadata": {},
   "source": [
    "# Exercise 6.2"
   ]
  },
  {
   "cell_type": "code",
   "execution_count": 76,
   "metadata": {},
   "outputs": [
    {
     "name": "stdout",
     "output_type": "stream",
     "text": [
      "{2: 2, 5: 5, 6: 2, 8: 3, 87: 1}\n"
     ]
    }
   ],
   "source": [
    "def counter(liste):\n",
    "    res = {}\n",
    "    for i in liste:\n",
    "        if i not in res:\n",
    "            res[i]=liste.count(i)\n",
    "    return res\n",
    "\n",
    "a=[2,5,6,8,8,87,6,8,2,5,5,5,5]\n",
    "print(counter(a))"
   ]
  },
  {
   "cell_type": "markdown",
   "metadata": {},
   "source": [
    "# Exercise 6.2"
   ]
  },
  {
   "cell_type": "code",
   "execution_count": 77,
   "metadata": {},
   "outputs": [
    {
     "name": "stdout",
     "output_type": "stream",
     "text": [
      "{2: 2, 5: 5, 6: 2, 8: 3, 87: 1}\n"
     ]
    }
   ],
   "source": [
    "def counterGet(liste):\n",
    "    res = {}\n",
    "    for i in liste:\n",
    "        \n",
    "        res[i]=res.get(i,liste.count(i))\n",
    "    return res\n",
    "\n",
    "a=[2,5,6,8,8,87,6,8,2,5,5,5,5]\n",
    "print(counter(a))"
   ]
  },
  {
   "cell_type": "markdown",
   "metadata": {},
   "source": [
    "# Exercise 6.3"
   ]
  },
  {
   "cell_type": "code",
   "execution_count": 80,
   "metadata": {},
   "outputs": [
    {
     "data": {
      "text/plain": [
       "{0: 5, 1: 7, 2: 9}"
      ]
     },
     "execution_count": 80,
     "metadata": {},
     "output_type": "execute_result"
    }
   ],
   "source": [
    "def list_to_dict(a):\n",
    "    temp_a = dict()\n",
    "    for i,v in enumerate(a):\n",
    "        temp_a[i] = v\n",
    "    return temp_a\n",
    "\n",
    "def add_vectors(a,b):\n",
    "    a = list_to_dict(a)\n",
    "    b = list_to_dict(b)\n",
    "    res = dict()\n",
    "    for k in list(a.keys()):\n",
    "        res[k] = a[k] + b[k]\n",
    "    return res\n",
    "\n",
    "add_vectors([1,2,3],[4,5,6])\n",
    "        "
   ]
  },
  {
   "cell_type": "code",
   "execution_count": null,
   "metadata": {},
   "outputs": [],
   "source": []
  }
 ],
 "metadata": {
  "kernelspec": {
   "display_name": "Python 3",
   "language": "python",
   "name": "python3"
  },
  "language_info": {
   "codemirror_mode": {
    "name": "ipython",
    "version": 3
   },
   "file_extension": ".py",
   "mimetype": "text/x-python",
   "name": "python",
   "nbconvert_exporter": "python",
   "pygments_lexer": "ipython3",
   "version": "3.7.4"
  }
 },
 "nbformat": 4,
 "nbformat_minor": 2
}
