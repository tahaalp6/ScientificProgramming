{
 "cells": [
  {
   "cell_type": "markdown",
   "metadata": {},
   "source": [
    "# Exercise 1.1"
   ]
  },
  {
   "cell_type": "code",
   "execution_count": 1,
   "metadata": {},
   "outputs": [
    {
     "data": {
      "text/plain": [
       "4"
      ]
     },
     "execution_count": 1,
     "metadata": {},
     "output_type": "execute_result"
    }
   ],
   "source": [
    "#1\n",
    "#1.1.a\n",
    "3+1"
   ]
  },
  {
   "cell_type": "code",
   "execution_count": 2,
   "metadata": {},
   "outputs": [
    {
     "data": {
      "text/plain": [
       "9"
      ]
     },
     "execution_count": 2,
     "metadata": {},
     "output_type": "execute_result"
    }
   ],
   "source": [
    "#1.1.b\n",
    "3*3"
   ]
  },
  {
   "cell_type": "code",
   "execution_count": 3,
   "metadata": {},
   "outputs": [
    {
     "data": {
      "text/plain": [
       "8"
      ]
     },
     "execution_count": 3,
     "metadata": {},
     "output_type": "execute_result"
    }
   ],
   "source": [
    "#1.1.c\n",
    "2 ** 3\n"
   ]
  },
  {
   "cell_type": "code",
   "execution_count": 4,
   "metadata": {},
   "outputs": [
    {
     "data": {
      "text/plain": [
       "'Hello, World!'"
      ]
     },
     "execution_count": 4,
     "metadata": {},
     "output_type": "execute_result"
    }
   ],
   "source": [
    "#1.1.d\n",
    "\"Hello, World!\""
   ]
  },
  {
   "cell_type": "markdown",
   "metadata": {},
   "source": [
    "# Exercise 1.3"
   ]
  },
  {
   "cell_type": "code",
   "execution_count": 19,
   "metadata": {
    "scrolled": true
   },
   "outputs": [
    {
     "name": "stdout",
     "output_type": "stream",
     "text": [
      "python\n",
      "pypypython\n",
      "333\n",
      "3\n"
     ]
    }
   ],
   "source": [
    "print(\"py\" + \"thon\")\n",
    "print(\"py\" * 3 + \"thon\")\n",
    "#print(\"py\" - \"py\")  TypeError: unsupported operand type(s) for -: 'str' and 'str'\n",
    "#print(\"3\" + 3) TypeError: can only concatenate str (not \"int\") to str\n",
    "print(3 * \"3\")\n",
    "#print(a) NameError: name 'a' is not defined\n",
    "a = 3\n",
    "print(a)\n"
   ]
  },
  {
   "cell_type": "markdown",
   "metadata": {},
   "source": [
    "# Exercise 1.4"
   ]
  },
  {
   "cell_type": "code",
   "execution_count": 20,
   "metadata": {},
   "outputs": [
    {
     "name": "stdout",
     "output_type": "stream",
     "text": [
      "True\n",
      "True\n",
      "False\n",
      "True\n",
      "True\n",
      "0\n",
      "False\n",
      "False\n"
     ]
    }
   ],
   "source": [
    "print(1 == 1)\n",
    "print(1 == True)\n",
    "print(0 == True)\n",
    "print(0 == False)\n",
    "print(3 == 1 * 3)\n",
    "print((3 == 1) * 3)\n",
    "print((3 == 3) * 4 + 3 == 1)\n",
    "print(3**5 >= 4**4)\n"
   ]
  },
  {
   "cell_type": "markdown",
   "metadata": {},
   "source": [
    "# Exercise 1.5"
   ]
  },
  {
   "cell_type": "code",
   "execution_count": 21,
   "metadata": {},
   "outputs": [
    {
     "name": "stdout",
     "output_type": "stream",
     "text": [
      "1.6666666666666667\n",
      "2\n",
      "1.6666666666666667\n",
      "1.6666666666666667\n",
      "2.2\n",
      "1775896810483121914350934797871501063452843428843794422323202530887281536545210629921129898113201749875234297340507804201761453596034016264189501186924066128377025843892373608427790859511135990682732202975330824797118808624727351608183194154557208730494440110429635650057431833674286462463508755276302896154336475782768613964332764108132533925570342220340698973761380541294970139762186212823359128790706292900765512137078550033912252338262922477518858757114840012576514724742388124595061301502222934806074032688691170880996881967426442947828261057852871032366879179996122216385870273020506079240103910728766397733398071775041745854959302025036249707279600400001\n"
     ]
    }
   ],
   "source": [
    "print(5 / 3)\n",
    "print(5 % 3)\n",
    "print(5.0 / 3)\n",
    "print(5 / 3.0)\n",
    "print(5.2 % 3)\n",
    "print(2001 ** 200)"
   ]
  },
  {
   "cell_type": "markdown",
   "metadata": {},
   "source": [
    "# Exercise 1.6"
   ]
  },
  {
   "cell_type": "code",
   "execution_count": 23,
   "metadata": {},
   "outputs": [
    {
     "name": "stdout",
     "output_type": "stream",
     "text": [
      "1.0\n",
      "0.0\n"
     ]
    }
   ],
   "source": [
    "#print(2000.3 ** 200)  OverflowError: (34, 'Result too large')\n",
    "print(1.0 + 1.0 - 1.0)\n",
    "print(1.0 + 1.0e20 - 1.0e20)"
   ]
  },
  {
   "cell_type": "markdown",
   "metadata": {},
   "source": [
    "# Exercise 1.7"
   ]
  },
  {
   "cell_type": "code",
   "execution_count": 25,
   "metadata": {},
   "outputs": [
    {
     "name": "stdout",
     "output_type": "stream",
     "text": [
      ":Taha\n",
      "Hello, Taha!\n"
     ]
    }
   ],
   "source": [
    "name =input(\":\")\n",
    "print(\"Hello, \"+name+\"!\")"
   ]
  },
  {
   "cell_type": "markdown",
   "metadata": {},
   "source": [
    "# Exercise 1.8"
   ]
  },
  {
   "cell_type": "code",
   "execution_count": 28,
   "metadata": {
    "scrolled": true
   },
   "outputs": [
    {
     "data": {
      "text/plain": [
       "True"
      ]
     },
     "execution_count": 28,
     "metadata": {},
     "output_type": "execute_result"
    }
   ],
   "source": [
    "float(123)\n",
    "float(\"123\")\n",
    "float(\"123.23\")\n",
    "int(123.23)\n",
    "#int(\"123.23\")  ValueError: invalid literal for int() with base 10: '123.23'\n",
    "int(float(\"123.23\"))\n",
    "str(12)\n",
    "str(12.2)\n",
    "bool(\"a\")\n",
    "bool(0)\n",
    "bool(0.1)\n"
   ]
  },
  {
   "cell_type": "markdown",
   "metadata": {},
   "source": [
    "# Exercise 2.1"
   ]
  },
  {
   "cell_type": "code",
   "execution_count": 29,
   "metadata": {},
   "outputs": [
    {
     "data": {
      "text/plain": [
       "range(0, 5)"
      ]
     },
     "execution_count": 29,
     "metadata": {},
     "output_type": "execute_result"
    }
   ],
   "source": [
    "range(5)"
   ]
  },
  {
   "cell_type": "code",
   "execution_count": 31,
   "metadata": {},
   "outputs": [
    {
     "name": "stdout",
     "output_type": "stream",
     "text": [
      "0\n",
      "1\n",
      "2\n",
      "3\n",
      "4\n"
     ]
    }
   ],
   "source": [
    "for i in range(5):\n",
    "    print(i)"
   ]
  },
  {
   "cell_type": "code",
   "execution_count": 32,
   "metadata": {},
   "outputs": [
    {
     "data": {
      "text/plain": [
       "range"
      ]
     },
     "execution_count": 32,
     "metadata": {},
     "output_type": "execute_result"
    }
   ],
   "source": [
    "type(range(5)) "
   ]
  },
  {
   "cell_type": "markdown",
   "metadata": {},
   "source": [
    "# Exercise 2.2"
   ]
  },
  {
   "cell_type": "code",
   "execution_count": 34,
   "metadata": {},
   "outputs": [
    {
     "name": "stdout",
     "output_type": "stream",
     "text": [
      "0 - 1 - 2 - 3 - 4 - 5 - 6 - 7 - 8 - 9 - 10 - 11 - 12 - 13 - 14 - 15 - 16 - 17 - 18 - 19 - 20 - 21 - 22 - 23 - 24 - 25 - 26 - 27 - 28 - 29 - 30 - 31 - 32 - 33 - 34 - 35 - 36 - 37 - 38 - 39 - 40 - 41 - 42 - 43 - 44 - 45 - 46 - 47 - 48 - 49 - 50 - 51 - 52 - 53 - 54 - 55 - 56 - 57 - 58 - 59 - 60 - 61 - 62 - 63 - 64 - 65 - 66 - 67 - 68 - 69 - 70 - 71 - 72 - 73 - 74 - 75 - 76 - 77 - 78 - 79 - 80 - 81 - 82 - 83 - 84 - 85 - 86 - 87 - 88 - 89 - 90 - 91 - 92 - 93 - 94 - 95 - 96 - 97 - 98 - 99 - 100 - "
     ]
    }
   ],
   "source": [
    "for i in range(101):\n",
    "    print(i,end =\" - \")"
   ]
  },
  {
   "cell_type": "code",
   "execution_count": 35,
   "metadata": {},
   "outputs": [
    {
     "name": "stdout",
     "output_type": "stream",
     "text": [
      "0 - 7 - 14 - 21 - 28 - 35 - 42 - 49 - 56 - 63 - 70 - 77 - 84 - 91 - 98 - "
     ]
    }
   ],
   "source": [
    "for i in range(0,101,7):\n",
    "    print(i,end =\" - \")"
   ]
  },
  {
   "cell_type": "code",
   "execution_count": 36,
   "metadata": {},
   "outputs": [
    {
     "name": "stdout",
     "output_type": "stream",
     "text": [
      "7 - 14 - 28 - 35 - 49 - 56 - 70 - 77 - 91 - 98 - "
     ]
    }
   ],
   "source": [
    "for i in range(0,101,7):\n",
    "    if(i%3 == 0):\n",
    "        continue\n",
    "    print(i,end =\" - \")"
   ]
  },
  {
   "cell_type": "code",
   "execution_count": 40,
   "metadata": {},
   "outputs": [
    {
     "name": "stdout",
     "output_type": "stream",
     "text": [
      "1 - \n",
      "2 - 1, \n",
      "3 - 1, \n",
      "4 - 1, 2, \n",
      "5 - 1, \n",
      "6 - 1, 2, 3, \n",
      "7 - 1, \n",
      "8 - 1, 2, 4, \n",
      "9 - 1, 3, \n",
      "10 - 1, 2, 5, \n",
      "11 - 1, \n",
      "12 - 1, 2, 3, 4, 6, \n",
      "13 - 1, \n",
      "14 - 1, 2, 7, \n",
      "15 - 1, 3, 5, \n",
      "16 - 1, 2, 4, 8, \n",
      "17 - 1, \n",
      "18 - 1, 2, 3, 6, 9, \n",
      "19 - 1, \n",
      "20 - 1, 2, 4, 5, 10, \n"
     ]
    }
   ],
   "source": [
    "for i in range(1,21):\n",
    "    print(i,end =\" - \")\n",
    "    for j in range(1,i):\n",
    "        if(i%j == 0):\n",
    "            print(j,end =\", \")\n",
    "    print()"
   ]
  },
  {
   "cell_type": "markdown",
   "metadata": {},
   "source": [
    "# Exercise 2.3"
   ]
  },
  {
   "cell_type": "code",
   "execution_count": 43,
   "metadata": {},
   "outputs": [
    {
     "name": "stdout",
     "output_type": "stream",
     "text": [
      "0 - 1 - 2 - 3 - 4 - 5 - 6 - 7 - 8 - 9 - 10 - 11 - 12 - 13 - 14 - 15 - 16 - 17 - 18 - 19 - 20 - 21 - 22 - 23 - 24 - 25 - 26 - 27 - 28 - 29 - 30 - 31 - 32 - 33 - 34 - 35 - 36 - 37 - 38 - 39 - 40 - 41 - 42 - 43 - 44 - 45 - 46 - 47 - 48 - 49 - 50 - 51 - 52 - 53 - 54 - 55 - 56 - 57 - 58 - 59 - 60 - 61 - 62 - 63 - 64 - 65 - 66 - 67 - 68 - 69 - 70 - 71 - 72 - 73 - 74 - 75 - 76 - 77 - 78 - 79 - 80 - 81 - 82 - 83 - 84 - 85 - 86 - 87 - 88 - 89 - 90 - 91 - 92 - 93 - 94 - 95 - 96 - 97 - 98 - 99 - 100 - "
     ]
    }
   ],
   "source": [
    "i=0\n",
    "while(i!=101):\n",
    "    print(i,end=\" - \")\n",
    "    i+=1"
   ]
  },
  {
   "cell_type": "code",
   "execution_count": 45,
   "metadata": {},
   "outputs": [
    {
     "name": "stdout",
     "output_type": "stream",
     "text": [
      "0 - 7 - 14 - 21 - 28 - 35 - 42 - 49 - 56 - 63 - 70 - 77 - 84 - 91 - 98 - "
     ]
    }
   ],
   "source": [
    "i=0\n",
    "while(i<101):\n",
    "    print(i,end=\" - \")\n",
    "    i+=7"
   ]
  },
  {
   "cell_type": "markdown",
   "metadata": {},
   "source": [
    "# Exercise 2.5"
   ]
  },
  {
   "cell_type": "code",
   "execution_count": 47,
   "metadata": {},
   "outputs": [
    {
     "name": "stdout",
     "output_type": "stream",
     "text": [
      "385\n",
      "770\n",
      "1155\n",
      "1540\n",
      "1925\n",
      "2310\n",
      "2695\n",
      "3080\n",
      "3465\n",
      "3850\n",
      "4235\n",
      "4620\n",
      "5005\n",
      "5390\n",
      "5775\n",
      "6160\n",
      "6545\n",
      "6930\n",
      "7315\n",
      "7700\n"
     ]
    }
   ],
   "source": [
    "number_found = 0\n",
    "x = 11\n",
    "while number_found < 20:\n",
    "    if x%5==0 and x%7==0 and x%11==0:\n",
    "        print(x)\n",
    "        number_found+= 1\n",
    "    x += 1\n"
   ]
  },
  {
   "cell_type": "markdown",
   "metadata": {},
   "source": [
    "# Exercise 2.6"
   ]
  },
  {
   "cell_type": "code",
   "execution_count": 48,
   "metadata": {},
   "outputs": [
    {
     "name": "stdout",
     "output_type": "stream",
     "text": [
      "2520\n"
     ]
    }
   ],
   "source": [
    "number_found = 1\n",
    "number_list = range(1,10)\n",
    "while True:\n",
    "    isDividible= True\n",
    "    for i in number_list:\n",
    "        if number_found%i !=0:\n",
    "            isDividible = False\n",
    "            break\n",
    "    if isDividible==False:\n",
    "        number_found+=1\n",
    "    else:\n",
    "        print(number_found)\n",
    "        break\n",
    "        \n",
    "    "
   ]
  },
  {
   "cell_type": "markdown",
   "metadata": {},
   "source": [
    "# Exercise 2.7\n"
   ]
  },
  {
   "cell_type": "code",
   "execution_count": 1,
   "metadata": {
    "scrolled": true
   },
   "outputs": [
    {
     "name": "stdout",
     "output_type": "stream",
     "text": [
      "6-3-10-5-16-8-4-2-1-"
     ]
    }
   ],
   "source": [
    "x=6\n",
    "print(x,end=\"-\")\n",
    "while x!=1:\n",
    "    if x%2==0:\n",
    "        x=x//2\n",
    "    else:\n",
    "        x=3*x+1\n",
    "    print(x,end=\"-\")\n",
    "        "
   ]
  },
  {
   "cell_type": "markdown",
   "metadata": {},
   "source": [
    "# Exercise 3.1\n"
   ]
  },
  {
   "cell_type": "code",
   "execution_count": 55,
   "metadata": {},
   "outputs": [
    {
     "name": "stdout",
     "output_type": "stream",
     "text": [
      "Hello, world!\n"
     ]
    }
   ],
   "source": [
    "def hello_world():\n",
    "    print(\"Hello, world!\")\n",
    "hello_world()"
   ]
  },
  {
   "cell_type": "code",
   "execution_count": 56,
   "metadata": {},
   "outputs": [
    {
     "name": "stdout",
     "output_type": "stream",
     "text": [
      "Hello, Taha!\n"
     ]
    }
   ],
   "source": [
    "def hello_world(name):\n",
    "    print(\"Hello, \"+name+\"!\")\n",
    "hello_world(\"Taha\")"
   ]
  },
  {
   "cell_type": "code",
   "execution_count": 69,
   "metadata": {
    "scrolled": true
   },
   "outputs": [
    {
     "name": "stdout",
     "output_type": "stream",
     "text": [
      "hello\n"
     ]
    }
   ],
   "source": [
    "#print is displaying input to console. Return is output of a function.\n",
    "print(\"hello\")# Exercise 3.1\n",
    "\n",
    "#return(\"hello\") SyntaxError: 'return' outside function"
   ]
  },
  {
   "cell_type": "markdown",
   "metadata": {},
   "source": [
    "# Exercise 3.2\n"
   ]
  },
  {
   "cell_type": "code",
   "execution_count": 68,
   "metadata": {
    "scrolled": true
   },
   "outputs": [
    {
     "name": "stdout",
     "output_type": "stream",
     "text": [
      ":5\n",
      "68\n"
     ]
    }
   ],
   "source": [
    "x = int(input(\":\"))\n",
    "\n",
    "def polynomial(x):\n",
    "    return ((3*(x**2))-(x + 2))\n",
    "print(polynomial(x))"
   ]
  },
  {
   "cell_type": "markdown",
   "metadata": {},
   "source": [
    "# Exercise 3.3\n"
   ]
  },
  {
   "cell_type": "code",
   "execution_count": 71,
   "metadata": {},
   "outputs": [
    {
     "name": "stdout",
     "output_type": "stream",
     "text": [
      "10\n"
     ]
    }
   ],
   "source": [
    "x = 8\n",
    "y = 10\n",
    "def my_max(x,y):\n",
    "    if x>y and x==y:\n",
    "        return x\n",
    "    else:\n",
    "        return y\n",
    "print(my_max(x,y))"
   ]
  },
  {
   "cell_type": "code",
   "execution_count": 72,
   "metadata": {},
   "outputs": [
    {
     "name": "stdout",
     "output_type": "stream",
     "text": [
      "10\n"
     ]
    }
   ],
   "source": [
    "x = 8\n",
    "y = 10\n",
    "def my_max(x,y):\n",
    "    if x>y and x==y:\n",
    "        return x\n",
    "    return y\n",
    "print(my_max(x,y))"
   ]
  },
  {
   "cell_type": "markdown",
   "metadata": {},
   "source": [
    "# Exercise 3.4\n"
   ]
  },
  {
   "cell_type": "code",
   "execution_count": 34,
   "metadata": {},
   "outputs": [
    {
     "data": {
      "text/plain": [
       "513239.0"
      ]
     },
     "execution_count": 34,
     "metadata": {},
     "output_type": "execute_result"
    }
   ],
   "source": [
    "11111111111/21649"
   ]
  },
  {
   "cell_type": "code",
   "execution_count": 47,
   "metadata": {
    "scrolled": true
   },
   "outputs": [
    {
     "name": "stdout",
     "output_type": "stream",
     "text": [
      ":333667\n",
      "[True, 575]\n"
     ]
    }
   ],
   "source": [
    "import math\n",
    "x = int(input(\":\")) #3.4.a\n",
    "\n",
    "def is_prime(n):\n",
    "    check_counter =0\n",
    "    if n<4:\n",
    "        return True\n",
    "    for i in range(2,int(math.sqrt(n))):\n",
    "        check_counter+=1\n",
    "        if n%i == 0:\n",
    "            #print(\"Total checked numbers : \"+str(check_counter))\n",
    "            return [False,check_counter]\n",
    "    #print(\"Total checked numbers : \"+str(check_counter))\n",
    "    return [True,check_counter]\n",
    "\n",
    "print(is_prime(x))"
   ]
  },
  {
   "cell_type": "code",
   "execution_count": 48,
   "metadata": {
    "scrolled": true
   },
   "outputs": [
    {
     "name": "stdout",
     "output_type": "stream",
     "text": [
      ":333667\n",
      "Total checked numbers : 96\n",
      "True\n"
     ]
    }
   ],
   "source": [
    "x = int(input(\":\"))\n",
    "\n",
    "def is_prime_w6(n : int):\n",
    "    check_counter = 0\n",
    "    if n < 4:\n",
    "        return n > 1\n",
    "    if n % 2 == 0 or n % 3 == 0:\n",
    "        return False\n",
    "    i = 5\n",
    "    while i**2 <= n:\n",
    "        check_counter += 1\n",
    "        if n % i == 0 or n % (i +2) == 0:\n",
    "            print(\"Total checked numbers : \" + str(check_counter))\n",
    "            return False\n",
    "        i += 6\n",
    "    print(\"Total checked numbers : \" + str(check_counter))\n",
    "    return True\n",
    "\n",
    "print(is_prime_w6(x))"
   ]
  },
  {
   "cell_type": "code",
   "execution_count": 89,
   "metadata": {},
   "outputs": [
    {
     "name": "stdout",
     "output_type": "stream",
     "text": [
      "False\n"
     ]
    }
   ],
   "source": [
    "n=71\n",
    "if (n+1)%6 ==0:\n",
    "    print(is_prime((n+1)//6))\n",
    "else:\n",
    "    print(is_prime((n-1)//6))"
   ]
  },
  {
   "cell_type": "code",
   "execution_count": 3,
   "metadata": {},
   "outputs": [
    {
     "name": "stdout",
     "output_type": "stream",
     "text": [
      ":20\n",
      "2\n",
      "3\n",
      "5\n",
      "7\n",
      "11\n",
      "13\n",
      "17\n",
      "19\n"
     ]
    }
   ],
   "source": [
    "x = int(input(\":\"))\n",
    "\n",
    "\n",
    "def printPrimes(n):\n",
    "    for i in range(2,n):\n",
    "        if n<4:\n",
    "            print(n)\n",
    "        isPrime = True\n",
    "        for j in range(2,i):\n",
    "            if i%j == 0:\n",
    "                isPrime = False\n",
    "                break\n",
    "        if isPrime:\n",
    "            print(i)\n",
    "\n",
    "printPrimes(x)"
   ]
  },
  {
   "cell_type": "code",
   "execution_count": 90,
   "metadata": {},
   "outputs": [
    {
     "name": "stdout",
     "output_type": "stream",
     "text": [
      ":25\n",
      "2-3-5-7-11-13-17-19-23-29-31-37-41-43-47-53-59-61-67-71-73-79-83-89-97-"
     ]
    }
   ],
   "source": [
    "x = int(input(\":\"))\n",
    "\n",
    "\n",
    "def printTimesPrimes(n):\n",
    "    temp=0\n",
    "    i=2\n",
    "    while temp!=n:\n",
    "        \n",
    "        if i<4:\n",
    "            print(i,end=\"-\")\n",
    "            temp+=1\n",
    "            i+=1\n",
    "            continue\n",
    "        isPrime = True\n",
    "        for j in range(2,i):\n",
    "            if i%j == 0:\n",
    "                isPrime = False\n",
    "                i+=1\n",
    "                break\n",
    "        if isPrime:\n",
    "            print(i,end=\"-\")\n",
    "            temp+=1\n",
    "            i+=1\n",
    "\n",
    "\n",
    "printTimesPrimes(x)"
   ]
  },
  {
   "cell_type": "markdown",
   "metadata": {},
   "source": [
    "# Exercise 3.5\n"
   ]
  },
  {
   "cell_type": "code",
   "execution_count": 80,
   "metadata": {},
   "outputs": [
    {
     "data": {
      "text/plain": [
       "0.0"
      ]
     },
     "execution_count": 80,
     "metadata": {},
     "output_type": "execute_result"
    }
   ],
   "source": [
    "def functionF(x):\n",
    "    return x**3 - 5.06*(x**2) - 52.1797*x - 5.67721\n",
    "\n",
    "round(functionF(-5.05),10)"
   ]
  },
  {
   "cell_type": "code",
   "execution_count": 85,
   "metadata": {},
   "outputs": [
    {
     "name": "stdout",
     "output_type": "stream",
     "text": [
      "[-5.05, -0.11, 10.22]\n"
     ]
    }
   ],
   "source": [
    "import math\n",
    "precision = 4\n",
    "\n",
    "\n",
    "\n",
    "def root(f, a, b):\n",
    "    roots = []\n",
    "    if (f(a) < 0 and f(b)<0) or (f(a) > 0 and f(b)>0):\n",
    "        return \"function evals have same sign\"\n",
    "    for i in range(a*(10**precision),(b+1)*(10**precision)):\n",
    "        if round(f(i/(10**precision)),precision)==0:\n",
    "            roots.append(i/(10**precision))\n",
    "    return roots\n",
    "\n",
    "print(root(functionF,-10,15))\n",
    "    "
   ]
  },
  {
   "cell_type": "code",
   "execution_count": null,
   "metadata": {},
   "outputs": [],
   "source": []
  }
 ],
 "metadata": {
  "kernelspec": {
   "display_name": "Python 3",
   "language": "python",
   "name": "python3"
  },
  "language_info": {
   "codemirror_mode": {
    "name": "ipython",
    "version": 3
   },
   "file_extension": ".py",
   "mimetype": "text/x-python",
   "name": "python",
   "nbconvert_exporter": "python",
   "pygments_lexer": "ipython3",
   "version": "3.7.4"
  }
 },
 "nbformat": 4,
 "nbformat_minor": 2
}
